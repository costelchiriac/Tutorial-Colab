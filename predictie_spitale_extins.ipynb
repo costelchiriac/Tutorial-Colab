{
 "cells": [
  {
   "cell_type": "markdown",
   "id": "b6287207",
   "metadata": {},
   "source": [
    "# 🧠 Model extins de predicție a numărului de spitale"
   ]
  },
  {
   "cell_type": "markdown",
   "id": "18baaac0",
   "metadata": {},
   "source": [
    "Vom folosi un set de date extins cu 15 capitale europene pentru a antrena un model de regresie liniară și a estima numărul de spitale în funcție de populație, structura de gen și dimensiune."
   ]
  },
  {
   "cell_type": "code",
   "execution_count": null,
   "id": "fe4c19c6",
   "metadata": {},
   "outputs": [],
   "source": [
    "import pandas as pd\n",
    "from sklearn.linear_model import LinearRegression\n",
    "from sklearn.preprocessing import LabelEncoder\n",
    "\n",
    "# Încărcăm fișierul extins\n",
    "file_path = \"/content/date_predictie_spitale_extins.xlsx\"\n",
    "df = pd.read_excel(file_path)\n",
    "df.head()"
   ]
  },
  {
   "cell_type": "markdown",
   "id": "b459d934",
   "metadata": {},
   "source": [
    "## 🔄 Preprocesare: Transformăm 'Marime' în format numeric"
   ]
  },
  {
   "cell_type": "code",
   "execution_count": null,
   "id": "18d47c51",
   "metadata": {},
   "outputs": [],
   "source": [
    "le = LabelEncoder()\n",
    "df['Marime_cod'] = le.fit_transform(df['Marime'])\n",
    "df"
   ]
  },
  {
   "cell_type": "markdown",
   "id": "75f4771b",
   "metadata": {},
   "source": [
    "## 🧠 Antrenăm modelul de regresie liniară"
   ]
  },
  {
   "cell_type": "code",
   "execution_count": null,
   "id": "f737416f",
   "metadata": {},
   "outputs": [],
   "source": [
    "X = df[['Populatie', 'Barbati', 'Femei', 'Copii', 'Marime_cod']]\n",
    "y = df['nr_spitale']\n",
    "\n",
    "model = LinearRegression()\n",
    "model.fit(X, y)"
   ]
  },
  {
   "cell_type": "markdown",
   "id": "cd998bd5",
   "metadata": {},
   "source": [
    "## 🔍 Estimăm spitalele pentru o capitală nouă"
   ]
  },
  {
   "cell_type": "code",
   "execution_count": null,
   "id": "b76370ef",
   "metadata": {},
   "outputs": [],
   "source": [
    "pop = 1500000\n",
    "barbati = int(pop * 0.48)\n",
    "femei = int(pop * 0.51)\n",
    "copii = int(pop * 0.01)\n",
    "marime_cod = le.transform(['mare'])[0]\n",
    "\n",
    "X_nou = [[pop, barbati, femei, copii, marime_cod]]\n",
    "predictie = model.predict(X_nou)\n",
    "print(f\"Modelul estimează că această capitală ar avea aproximativ {int(predictie[0])} spitale.\")"
   ]
  },
  {
   "cell_type": "markdown",
   "id": "9fc4cd70",
   "metadata": {},
   "source": [
    "## 📊 Coeficienți ai modelului și interpretare"
   ]
  },
  {
   "cell_type": "code",
   "execution_count": null,
   "id": "eb80a154",
   "metadata": {},
   "outputs": [],
   "source": [
    "coeficienti = pd.Series(model.coef_, index=X.columns)\n",
    "print(\"Coeficienți model:\\n\")\n",
    "print(coeficienti)\n",
    "print(\"\\nIntercept:\", model.intercept_)"
   ]
  }
 ],
 "metadata": {},
 "nbformat": 4,
 "nbformat_minor": 5
}
