{
 "cells": [
  {
   "cell_type": "markdown",
   "id": "2a42657c",
   "metadata": {},
   "source": [
    "# Primii pași în Google Colab\n",
    "\n",
    "Acesta este un notebook de test pentru începători. Vei învăța cum să scrii și să rulezi cod în Python."
   ]
  },
  {
   "cell_type": "markdown",
   "id": "4daedc84",
   "metadata": {},
   "source": [
    "## Exemplu 1: Primul cod"
   ]
  },
  {
   "cell_type": "code",
   "execution_count": null,
   "id": "9749ef7b",
   "metadata": {},
   "outputs": [],
   "source": [
    "print(\"Salut! Acesta este primul meu cod în Google Colab.\")"
   ]
  },
  {
   "cell_type": "markdown",
   "id": "abc2b08c",
   "metadata": {},
   "source": [
    "## Exemplu 2: Operații simple"
   ]
  },
  {
   "cell_type": "code",
   "execution_count": null,
   "id": "c9c1aad9",
   "metadata": {},
   "outputs": [],
   "source": [
    "a = 10\n",
    "b = 5\n",
    "print(\"Suma:\", a + b)\n",
    "print(\"Diferența:\", a - b)\n",
    "print(\"Produsul:\", a * b)\n",
    "print(\"Împărțirea:\", a / b)"
   ]
  },
  {
   "cell_type": "markdown",
   "id": "7f24eecb",
   "metadata": {},
   "source": [
    "## Exemplu 3: Buclă și listă"
   ]
  },
  {
   "cell_type": "code",
   "execution_count": null,
   "id": "f355f6c5",
   "metadata": {},
   "outputs": [],
   "source": [
    "numere = [1, 2, 3, 4, 5]\n",
    "for n in numere:\n",
    "    print(n * 2)"
   ]
  },
  {
   "cell_type": "markdown",
   "id": "ad293d76",
   "metadata": {},
   "source": [
    "## Exemplu 4: Grafic simplu"
   ]
  },
  {
   "cell_type": "code",
   "execution_count": null,
   "id": "469eba25",
   "metadata": {},
   "outputs": [],
   "source": [
    "import matplotlib.pyplot as plt\n",
    "\n",
    "x = [1, 2, 3, 4, 5]\n",
    "y = [n * 2 for n in x]\n",
    "\n",
    "plt.plot(x, y)\n",
    "plt.title(\"Grafic simplu\")\n",
    "plt.xlabel(\"x\")\n",
    "plt.ylabel(\"2 * x\")\n",
    "plt.grid(True)\n",
    "plt.show()"
   ]
  }
 ],
 "metadata": {},
 "nbformat": 4,
 "nbformat_minor": 5
}
