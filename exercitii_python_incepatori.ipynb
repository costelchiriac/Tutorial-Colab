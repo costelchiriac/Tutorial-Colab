{
 "cells": [
  {
   "cell_type": "markdown",
   "id": "c7a6cb51",
   "metadata": {},
   "source": [
    "# Exerciții simple în Python\n",
    "\n",
    "Aceste exerciții sunt create pentru a învăța bazele limbajului Python în Google Colab."
   ]
  },
  {
   "cell_type": "markdown",
   "id": "78e17b74",
   "metadata": {},
   "source": [
    "## Exercițiul 1 – Variabile și operații matematice"
   ]
  },
  {
   "cell_type": "code",
   "execution_count": null,
   "id": "a2807913",
   "metadata": {},
   "outputs": [],
   "source": [
    "a = 7\n",
    "b = 3\n",
    "\n",
    "suma = a + b\n",
    "diferenta = a - b\n",
    "produsul = a * b\n",
    "impartirea = a / b\n",
    "\n",
    "print(\"Suma este:\", suma)\n",
    "print(\"Diferența este:\", diferenta)\n",
    "print(\"Produsul este:\", produsul)\n",
    "print(\"Împărțirea este:\", impartirea)"
   ]
  },
  {
   "cell_type": "markdown",
   "id": "c9c6d90c",
   "metadata": {},
   "source": [
    "## Exercițiul 2 – Lucru cu liste"
   ]
  },
  {
   "cell_type": "code",
   "execution_count": null,
   "id": "e4295e18",
   "metadata": {},
   "outputs": [],
   "source": [
    "fructe = [\"mar\", \"banana\", \"portocala\"]\n",
    "\n",
    "for fruct in fructe:\n",
    "    print(\"Îmi place:\", fruct)"
   ]
  },
  {
   "cell_type": "markdown",
   "id": "7e33d6e8",
   "metadata": {},
   "source": [
    "## Exercițiul 3 – Condiții (if/else)"
   ]
  },
  {
   "cell_type": "code",
   "execution_count": null,
   "id": "69b795c6",
   "metadata": {},
   "outputs": [],
   "source": [
    "nota = 8\n",
    "\n",
    "if nota >= 5:\n",
    "    print(\"Ai trecut!\")\n",
    "else:\n",
    "    print(\"Ai picat.\")"
   ]
  },
  {
   "cell_type": "markdown",
   "id": "3d3d78aa",
   "metadata": {},
   "source": [
    "## Exercițiul 4 – Funcție simplă"
   ]
  },
  {
   "cell_type": "code",
   "execution_count": null,
   "id": "160aeff5",
   "metadata": {},
   "outputs": [],
   "source": [
    "def salut(nume):\n",
    "    print(\"Salut,\", nume)\n",
    "\n",
    "salut(\"Costel\")\n",
    "salut(\"Maria\")"
   ]
  }
 ],
 "metadata": {},
 "nbformat": 4,
 "nbformat_minor": 5
}
