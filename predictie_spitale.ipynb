{
 "cells": [
  {
   "cell_type": "markdown",
   "id": "304b054f",
   "metadata": {},
   "source": [
    "# 🔮 Predicție: Număr de spitale în funcție de populație și dimensiune"
   ]
  },
  {
   "cell_type": "markdown",
   "id": "2d936a27",
   "metadata": {},
   "source": [
    "În acest notebook vom folosi un model de regresie liniară pentru a prezice numărul de spitale într-o capitală europeană pe baza unor caracteristici precum populația, numărul de bărbați, femei, copii și dimensiunea capitalei."
   ]
  },
  {
   "cell_type": "code",
   "execution_count": null,
   "id": "e4ab8289",
   "metadata": {},
   "outputs": [],
   "source": [
    "import pandas as pd\n",
    "from sklearn.linear_model import LinearRegression\n",
    "from sklearn.preprocessing import LabelEncoder\n",
    "\n",
    "# Încărcăm fișierul Excel\n",
    "file_path = \"/content/date_predictie_spitale.xlsx\"\n",
    "df = pd.read_excel(file_path)\n",
    "df.head()"
   ]
  },
  {
   "cell_type": "markdown",
   "id": "2c6b289f",
   "metadata": {},
   "source": [
    "## 🔄 Preprocesare: Transformăm coloana 'Marime' în format numeric"
   ]
  },
  {
   "cell_type": "code",
   "execution_count": null,
   "id": "ad279a02",
   "metadata": {},
   "outputs": [],
   "source": [
    "# Codificăm valorile categorice din 'Marime'\n",
    "le = LabelEncoder()\n",
    "df['Marime_cod'] = le.fit_transform(df['Marime'])\n",
    "df"
   ]
  },
  {
   "cell_type": "markdown",
   "id": "3c966070",
   "metadata": {},
   "source": [
    "## 🧠 Crearea modelului de regresie"
   ]
  },
  {
   "cell_type": "code",
   "execution_count": null,
   "id": "88b41b8b",
   "metadata": {},
   "outputs": [],
   "source": [
    "# Selectăm coloanele de intrare (features) și ieșire (target)\n",
    "X = df[['Populatie', 'Barbati', 'Femei', 'Copii', 'Marime_cod']]\n",
    "y = df['nr_spitale']\n",
    "\n",
    "# Antrenăm modelul\n",
    "model = LinearRegression()\n",
    "model.fit(X, y)"
   ]
  },
  {
   "cell_type": "markdown",
   "id": "4e714cff",
   "metadata": {},
   "source": [
    "## 🔍 Test: Prezicem spitale pentru o capitală nouă"
   ]
  },
  {
   "cell_type": "code",
   "execution_count": null,
   "id": "e3d929c9",
   "metadata": {},
   "outputs": [],
   "source": [
    "# Exemplu: o capitală cu 1.500.000 locuitori, 48% bărbați, 51% femei, 1% copii, marime 'mare'\n",
    "pop = 1500000\n",
    "barbati = int(pop * 0.48)\n",
    "femei = int(pop * 0.51)\n",
    "copii = int(pop * 0.01)\n",
    "marime_cod = le.transform(['mare'])[0]\n",
    "\n",
    "X_nou = [[pop, barbati, femei, copii, marime_cod]]\n",
    "predictie = model.predict(X_nou)\n",
    "print(f\"Modelul estimează că această capitală ar avea aproximativ {int(predictie[0])} spitale.\")"
   ]
  }
 ],
 "metadata": {},
 "nbformat": 4,
 "nbformat_minor": 5
}
